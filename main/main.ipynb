{
 "cells": [
  {
   "cell_type": "code",
   "execution_count": null,
   "metadata": {},
   "outputs": [
    {
     "name": "stdout",
     "output_type": "stream",
     "text": []
    },
    {
     "name": "stdout",
     "output_type": "stream",
     "text": []
    }
   ],
   "source": [
    "%pip install pandas matplotlib seaborn"
   ]
  },
  {
   "cell_type": "code",
   "execution_count": 12,
   "metadata": {},
   "outputs": [
    {
     "name": "stdout",
     "output_type": "stream",
     "text": []
    },
    {
     "name": "stdout",
     "output_type": "stream",
     "text": []
    },
    {
     "name": "stdout",
     "output_type": "stream",
     "text": []
    }
   ],
   "source": [
    "import pandas as pd\n",
    "import matplotlib.pyplot as plt\n",
    "import seaborn as sns\n",
    "\n",
    "# قراءة البيانات من ملف CSV\n",
    "file_path = r'C:\\Users\\Hussein soft\\OneDrive\\Desktop\\main\\DatasetForCoffeeSales2.csv'\n",
    "data = pd.read_csv(file_path)\n",
    "\n",
    "# عرض أول 5 صفوف من البيانات\n",
    "print(data.head())\n",
    "\n",
    "# عرض معلومات عن البيانات\n",
    "print(data.info())\n",
    "\n",
    "# عرض إحصائيات وصفية للبيانات\n",
    "print(data.describe())\n",
    "\n",
    "# تحليل البيانات\n",
    "# توزيع المبيعات حسب الفروع\n",
    "plt.figure(figsize=(10, 6))\n",
    "sns.countplot(data=data, x='Branch')\n",
    "plt.title('توزيع المبيعات حسب الفروع')\n",
    "plt.xlabel('الفرع')\n",
    "plt.ylabel('عدد المبيعات')\n",
    "plt.show()\n",
    "\n",
    "# توزيع المبيعات حسب المنتجات\n",
    "plt.figure(figsize=(10, 6))\n",
    "sns.countplot(data=data, x='Product')\n",
    "plt.title('توزيع المبيعات حسب المنتجات')\n",
    "plt.xlabel('المنتج')\n",
    "plt.ylabel('عدد المبيعات')\n",
    "plt.show()\n",
    "\n",
    "# تحليل المبيعات الشهرية\n",
    "data['Date'] = pd.to_datetime(data['Date'])\n",
    "data['Month'] = data['Date'].dt.to_period('M')\n",
    "monthly_sales = data.groupby('Month').size()\n",
    "plt.figure(figsize=(12, 6))\n",
    "monthly_sales.plot(kind='bar')\n",
    "plt.title('تحليل المبيعات الشهرية')\n",
    "plt.xlabel('الشهر')\n",
    "plt.ylabel('عدد المبيعات')\n",
    "plt.show()\n",
    "\n",
    "# تحليل الإيرادات الشهرية\n",
    "monthly_revenue = data.groupby('Month')['Revenue'].sum()\n",
    "plt.figure(figsize=(12, 6))\n",
    "monthly_revenue.plot(kind='bar', color='green')\n",
    "plt.title('تحليل الإيرادات الشهرية')\n",
    "plt.xlabel('الشهر')\n",
    "plt.ylabel('الإيرادات')\n",
    "plt.show()"
   ]
  }
 ],
 "metadata": {
  "kernelspec": {
   "display_name": "Python 3",
   "language": "python",
   "name": "python3"
  },
  "language_info": {
   "codemirror_mode": {
    "name": "ipython",
    "version": 3
   },
   "file_extension": ".py",
   "mimetype": "text/x-python",
   "name": "python",
   "nbconvert_exporter": "python",
   "pygments_lexer": "ipython3",
   "version": "3.12.4"
  }
 },
 "nbformat": 4,
 "nbformat_minor": 2
}
